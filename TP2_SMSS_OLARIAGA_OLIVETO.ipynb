{
  "nbformat": 4,
  "nbformat_minor": 0,
  "metadata": {
    "colab": {
      "name": "TP2_SMSS_OLARIAGA_OLIVETO.ipynb",
      "provenance": [],
      "authorship_tag": "ABX9TyPw220+ggnwffM3UzSCqh4X",
      "include_colab_link": true
    },
    "kernelspec": {
      "name": "python3",
      "display_name": "Python 3"
    },
    "language_info": {
      "name": "python"
    }
  },
  "cells": [
    {
      "cell_type": "markdown",
      "metadata": {
        "id": "view-in-github",
        "colab_type": "text"
      },
      "source": [
        "<a href=\"https://colab.research.google.com/github/JesusOliveto/SMSS/blob/main/TP2_SMSS_OLARIAGA_OLIVETO.ipynb\" target=\"_parent\"><img src=\"https://colab.research.google.com/assets/colab-badge.svg\" alt=\"Open In Colab\"/></a>"
      ]
    },
    {
      "cell_type": "markdown",
      "metadata": {
        "id": "azcnLE3d5cUv"
      },
      "source": [
        "Congruencial mixto linear:"
      ]
    },
    {
      "cell_type": "code",
      "metadata": {
        "colab": {
          "base_uri": "https://localhost:8080/"
        },
        "id": "zipOo1kU5PcR",
        "outputId": "6d5dcdb2-33a5-465e-8dba-021b17b003b9"
      },
      "source": [
        "X0 = int(input(\"Ingrese una semilla: \"))\n",
        "a = int(input(\"Ingrese la constante multiplicativa: \"))\n",
        "c = int(input(\"Ingrese la cosntante aditiva: \"))\n",
        "m = int(input(\"Ingrese el numero al cual se calculan los restos: \"))\n",
        "\n",
        "for i in range(5):\n",
        "    X1 = (a*X0+c)%m \n",
        "    num = X1 / m\n",
        "    print(f\"{i+1}: {num}\")\n",
        "    X0 = X1\n"
      ],
      "execution_count": 1,
      "outputs": [
        {
          "output_type": "stream",
          "name": "stdout",
          "text": [
            "Ingrese una semilla: 8\n",
            "Ingrese la constante multiplicativa: 85\n",
            "Ingrese la cosntante aditiva: 866\n",
            "Ingrese el numero al cual se calculan los restos: 5\n",
            "1: 0.2\n",
            "2: 0.2\n",
            "3: 0.2\n",
            "4: 0.2\n",
            "5: 0.2\n"
          ]
        }
      ]
    },
    {
      "cell_type": "markdown",
      "metadata": {
        "id": "e6J1cQCb5fiv"
      },
      "source": [
        "---\n",
        "Lehmer:"
      ]
    },
    {
      "cell_type": "code",
      "metadata": {
        "colab": {
          "base_uri": "https://localhost:8080/"
        },
        "id": "Tp-CDtnC5YBo",
        "outputId": "663c55ff-1680-428f-fbd4-a5e665419273"
      },
      "source": [
        "X0 = input(\"Ingrese la semilla: \")\n",
        "c = input(\"Ingrese otro numero entero: \")\n",
        "for i in range(5):\n",
        "    tamaño_X0 = len(X0)\n",
        "    num = str(int(X0)*int(c))\n",
        "    k = num[:tamaño_X0]\n",
        "    n = num[tamaño_X0:]\n",
        "    X1 = int(k) - int(n)\n",
        "    print(f\"{i+1}: {X1}\")\n",
        "    X0 = str(X1)"
      ],
      "execution_count": 2,
      "outputs": [
        {
          "output_type": "stream",
          "name": "stdout",
          "text": [
            "Ingrese la semilla: 52\n",
            "Ingrese otro numero entero: 78\n",
            "1: -16\n",
            "2: -60\n",
            "3: -126\n",
            "4: -990\n",
            "5: -792\n"
          ]
        }
      ]
    },
    {
      "cell_type": "markdown",
      "metadata": {
        "id": "hzYXW1wX5zZP"
      },
      "source": [
        "---\n",
        "Cuadrados medios:"
      ]
    },
    {
      "cell_type": "code",
      "metadata": {
        "colab": {
          "base_uri": "https://localhost:8080/"
        },
        "id": "Bhsqqs4Z5yh_",
        "outputId": "c7274ebc-32dd-44ce-a65d-1266ea718b73"
      },
      "source": [
        "\n",
        "Z0 = input(\"Ingrese la semilla de 4 enteros: \") \n",
        "for i in range(5): \n",
        "\tnum = str(int(Z0)**2)\n",
        "\tif(len(num) < 8): \n",
        "\t\tfor j in range(8-len(num)):\n",
        "\t\t\tnum = \"0\" + num\n",
        "\tZ1 = num[2:6] \n",
        "\tZ0 = Z1\n",
        "\tZ1 = \"0.\"+Z1\n",
        "\tprint(f\"{i+1}: {Z1}\") "
      ],
      "execution_count": 3,
      "outputs": [
        {
          "output_type": "stream",
          "name": "stdout",
          "text": [
            "Ingrese la semilla de 4 enteros: 5678\n",
            "1: 0.2396\n",
            "2: 0.7408\n",
            "3: 0.8784\n",
            "4: 0.1586\n",
            "5: 0.5153\n"
          ]
        }
      ]
    }
  ]
}
